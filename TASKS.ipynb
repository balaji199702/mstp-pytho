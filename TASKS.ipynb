{
 "cells": [
  {
   "cell_type": "markdown",
   "metadata": {},
   "source": [
    "# .........................................   27-AUG-2019    ........................................."
   ]
  },
  {
   "cell_type": "markdown",
   "metadata": {},
   "source": [
    "# 1.first 15 prime numbers"
   ]
  },
  {
   "cell_type": "code",
   "execution_count": 1,
   "metadata": {},
   "outputs": [
    {
     "name": "stdout",
     "output_type": "stream",
     "text": [
      "enter the lowset num:0\n",
      "enter the highest num:90\n",
      "2\n",
      "3\n",
      "5\n",
      "7\n",
      "11\n",
      "13\n",
      "17\n",
      "19\n",
      "23\n",
      "29\n",
      "31\n",
      "37\n",
      "41\n",
      "43\n",
      "47\n",
      "53\n",
      "59\n",
      "61\n",
      "67\n",
      "71\n",
      "73\n",
      "79\n",
      "83\n",
      "89\n"
     ]
    }
   ],
   "source": [
    "lower=int(input(\"enter the lowset num:\"))\n",
    "upper=int(input(\"enter the highest num:\"))\n",
    "for num in range(lower,upper + 1):\n",
    "   if num > 1:\n",
    "       for i in range(2,num):\n",
    "           if (num % i) == 0:\n",
    "               break\n",
    "       else:\n",
    "           print(num)"
   ]
  },
  {
   "cell_type": "markdown",
   "metadata": {},
   "source": [
    "# 2. factorial of given number"
   ]
  },
  {
   "cell_type": "code",
   "execution_count": 2,
   "metadata": {},
   "outputs": [
    {
     "name": "stdout",
     "output_type": "stream",
     "text": [
      "enter the num:5\n",
      "The fac of 5 is 120\n"
     ]
    }
   ],
   "source": [
    "num =int(input(\"enter the num:\"))\n",
    "fac = 1\n",
    "if num < 0:\n",
    "   print(\"Sorry, fac does not exist for negative numbers\")\n",
    "elif num == 0:\n",
    "   print(\"The fac of 0 is 1\")\n",
    "else:\n",
    "   for i in range(1,num + 1):\n",
    "       fac = fac*i\n",
    "   print(\"The fac of\",num,\"is\",fac)"
   ]
  },
  {
   "cell_type": "markdown",
   "metadata": {},
   "source": [
    "# 3.num exist in a given range(i/p:num(n),range(lower num and upper num)"
   ]
  },
  {
   "cell_type": "code",
   "execution_count": 3,
   "metadata": {},
   "outputs": [
    {
     "name": "stdout",
     "output_type": "stream",
     "text": [
      "enter a val:10\n",
      "10 given num is exist\n"
     ]
    }
   ],
   "source": [
    "a=int(input(\"enter a val:\"))\n",
    "if a<=70:\n",
    "    print(a,\"given num is exist\")\n",
    "else :\n",
    "    print(a,\"given num is not exist\")"
   ]
  },
  {
   "cell_type": "markdown",
   "metadata": {},
   "source": [
    "# 4.give no is factor of 1000 or not"
   ]
  },
  {
   "cell_type": "code",
   "execution_count": 1,
   "metadata": {},
   "outputs": [
    {
     "name": "stdout",
     "output_type": "stream",
     "text": [
      "enter the num10\n",
      "factor of 1000\n"
     ]
    }
   ],
   "source": [
    "num=int(input(\"enter the num\"))\n",
    "if 1000%num==0:\n",
    "    print(\"factor of 1000\")\n",
    "else:\n",
    "    print(\"no is not factor\")\n"
   ]
  },
  {
   "cell_type": "markdown",
   "metadata": {},
   "source": [
    "# 5.num of digits in given num"
   ]
  },
  {
   "cell_type": "code",
   "execution_count": null,
   "metadata": {},
   "outputs": [
    {
     "name": "stdout",
     "output_type": "stream",
     "text": [
      "Enter number:25\n",
      "The number of digits in the number are: 2\n"
     ]
    }
   ],
   "source": [
    "n=int(input(\"Enter number:\"))\n",
    "count=0\n",
    "while(n>0):\n",
    "    count=count+1\n",
    "    n=n//10\n",
    "print(\"The number of digits in the number are:\",count)"
   ]
  },
  {
   "cell_type": "markdown",
   "metadata": {},
   "source": [
    "# 6.square root of given num\n"
   ]
  },
  {
   "cell_type": "code",
   "execution_count": null,
   "metadata": {},
   "outputs": [
    {
     "name": "stdout",
     "output_type": "stream",
     "text": [
      "enter the num5\n"
     ]
    }
   ],
   "source": [
    "num=int(input(\"enter the num\"))\n",
    "num_sqrt = num ** 0.5\n",
    "print('The square root of %0.3f is %0.3f'%(num ,num_sqrt))"
   ]
  },
  {
   "cell_type": "markdown",
   "metadata": {},
   "source": [
    "# 7.count of the num and avg of the num taken by the user"
   ]
  },
  {
   "cell_type": "code",
   "execution_count": 2,
   "metadata": {},
   "outputs": [
    {
     "name": "stdout",
     "output_type": "stream",
     "text": [
      "Enter Number to calculate sum50\n",
      "num: 1275 average: 25.5\n"
     ]
    }
   ],
   "source": [
    "n = input(\"Enter Number to calculate sum\")\n",
    "n = int (n)\n",
    "avg = 0\n",
    "sum = 0\n",
    "for num in range(0,n+1,1):\n",
    "    sum = sum+num\n",
    "    avg = sum/n\n",
    "print(\"num:\", sum ,\"average:\",avg)"
   ]
  },
  {
   "cell_type": "markdown",
   "metadata": {},
   "source": [
    "# 8.given string is pallindrum are not"
   ]
  },
  {
   "cell_type": "code",
   "execution_count": 3,
   "metadata": {},
   "outputs": [
    {
     "name": "stdout",
     "output_type": "stream",
     "text": [
      "abb\n",
      "it is not pallindrum\n"
     ]
    },
    {
     "data": {
      "text/plain": [
       "'abb'"
      ]
     },
     "execution_count": 3,
     "metadata": {},
     "output_type": "execute_result"
    }
   ],
   "source": [
    "a=input()\n",
    "if a==a[-1::-1]:\n",
    "    print(\"it is a pallindrum\")\n",
    "else :\n",
    "    print(\"it is not pallindrum\")\n",
    "a[:]"
   ]
  },
  {
   "cell_type": "markdown",
   "metadata": {},
   "source": [
    "# 9.serial of all prime num till N(loop)"
   ]
  },
  {
   "cell_type": "code",
   "execution_count": 3,
   "metadata": {},
   "outputs": [
    {
     "name": "stdout",
     "output_type": "stream",
     "text": [
      "enter the lowset num:0\n",
      "2\n",
      "3\n",
      "5\n",
      "7\n",
      "11\n",
      "13\n",
      "17\n",
      "19\n",
      "23\n",
      "29\n",
      "31\n",
      "37\n",
      "41\n",
      "43\n",
      "47\n",
      "53\n",
      "59\n",
      "61\n",
      "67\n",
      "71\n",
      "73\n",
      "79\n"
     ]
    }
   ],
   "source": [
    "lower=int(input(\"enter the lowset num:\"))\n",
    "upper=int(80)\n",
    "for num in range(lower,upper+1):\n",
    "    \n",
    "   if num > 1:\n",
    "       for i in range(2,num):\n",
    "           if (num % i) == 0:\n",
    "               break\n",
    "       else:\n",
    "           print(num)"
   ]
  },
  {
   "cell_type": "markdown",
   "metadata": {},
   "source": [
    "# 10.given 3 integers i,r and k. find how many num b/w i and r (both inclusive) are div by k"
   ]
  },
  {
   "cell_type": "code",
   "execution_count": 27,
   "metadata": {},
   "outputs": [
    {
     "name": "stdout",
     "output_type": "stream",
     "text": [
      "0\n",
      "20\n",
      "2\n",
      "0 it is divisable with k\n",
      "2 it is divisable with k\n",
      "4 it is divisable with k\n",
      "6 it is divisable with k\n",
      "8 it is divisable with k\n",
      "10 it is divisable with k\n",
      "12 it is divisable with k\n",
      "14 it is divisable with k\n",
      "16 it is divisable with k\n",
      "18 it is divisable with k\n",
      "20 it is divisable with k\n"
     ]
    }
   ],
   "source": [
    "i=int(input())\n",
    "r=int(input())\n",
    "k=int(input())\n",
    "for n in range(i,r+1):\n",
    "    if (n%k==0):\n",
    "        print(n,'it is divisable with k')\n"
   ]
  },
  {
   "cell_type": "markdown",
   "metadata": {},
   "source": [
    "# 11. n(+,-,*,/,)m operations in single i/p"
   ]
  },
  {
   "cell_type": "code",
   "execution_count": 39,
   "metadata": {},
   "outputs": [
    {
     "name": "stdout",
     "output_type": "stream",
     "text": [
      "5 + 2\n",
      "7\n"
     ]
    }
   ],
   "source": [
    "a=input(\"\")\n",
    "a=a.split()\n",
    "if a[1]=='+':\n",
    "    o=int(a[0])+int(a[2])\n",
    "if a[1]=='-':\n",
    "    o=int(a[0])-int(a[2])\n",
    "if a[1]=='*':\n",
    "    o=int(a[0])*int(a[2])\n",
    "if a[1]=='/':\n",
    "    o=int(a[0])/int(a[2])\n",
    "print(o)"
   ]
  },
  {
   "cell_type": "code",
   "execution_count": 7,
   "metadata": {},
   "outputs": [
    {
     "name": "stdout",
     "output_type": "stream",
     "text": [
      "enter the num:1\n",
      "enter the num:2\n"
     ]
    }
   ],
   "source": [
    "a=int(input(\"enter the num:\"))\n",
    "for i in range(a,42+1):\n",
    "    if a==43:\n",
    "        break\n",
    "else :\n",
    "     a=int(input(\"enter the num:\"))"
   ]
  },
  {
   "cell_type": "code",
   "execution_count": 2,
   "metadata": {},
   "outputs": [
    {
     "name": "stdout",
     "output_type": "stream",
     "text": [
      "1\n",
      "1\n",
      "1\n",
      "2\n",
      "2\n",
      "3\n",
      "3\n",
      "43\n"
     ]
    }
   ],
   "source": [
    "a=1\n",
    "while a<42:\n",
    "    print(a)\n",
    "    a=int(input(\"\"))"
   ]
  },
  {
   "cell_type": "code",
   "execution_count": 1,
   "metadata": {},
   "outputs": [
    {
     "ename": "IndentationError",
     "evalue": "expected an indented block (<ipython-input-1-dc901ef3eee8>, line 6)",
     "output_type": "error",
     "traceback": [
      "\u001b[1;36m  File \u001b[1;32m\"<ipython-input-1-dc901ef3eee8>\"\u001b[1;36m, line \u001b[1;32m6\u001b[0m\n\u001b[1;33m    if (w<=h)<l:\u001b[0m\n\u001b[1;37m                ^\u001b[0m\n\u001b[1;31mIndentationError\u001b[0m\u001b[1;31m:\u001b[0m expected an indented block\n"
     ]
    }
   ],
   "source": [
    "l=180\n",
    "a=input().split()\n",
    "if int(len(a)==2):\n",
    "    if(len(a[0])>l and len(a[2])>l):\n",
    "        \n",
    "if (w<=h)<l:\n",
    "    print(\"upload another\")\n",
    "if w==h>=h:\n",
    "    print(\"accepted\")\n",
    "else:\n",
    "    print(\"crop it\")\n"
   ]
  },
  {
   "cell_type": "markdown",
   "metadata": {},
   "source": [
    "#    ------------------------------    3-sep-2019 --------------------------------"
   ]
  },
  {
   "cell_type": "markdown",
   "metadata": {},
   "source": [
    "# student= [['sai',10,20,30],['lakshmi',30,40,60],['raju',30,40,60]]"
   ]
  },
  {
   "cell_type": "code",
   "execution_count": 20,
   "metadata": {},
   "outputs": [
    {
     "name": "stdout",
     "output_type": "stream",
     "text": [
      "lakshmi\n",
      "raju\n"
     ]
    }
   ],
   "source": [
    "s= [['sai',10,20,30],['lakshmi',30,40,60],['raju',30,40,60]]\n",
    "high=0\n",
    "for i in s:\n",
    "    name=i[0]\n",
    "    marks=i[1]+i[2]+i[3]\n",
    "    if high < marks:\n",
    "        high=marks\n",
    "        \n",
    "for i in s:\n",
    "    name=i[0]\n",
    "    marks =i[1]+i[2]+i[3]\n",
    "    if high==marks:\n",
    "        print(name)"
   ]
  },
  {
   "cell_type": "markdown",
   "metadata": {},
   "source": [
    "#                 no , sub 1 , sub2\n",
    "# students = [[1,30,40],[3,40,100],[2,50,10]]"
   ]
  },
  {
   "cell_type": "code",
   "execution_count": 21,
   "metadata": {},
   "outputs": [
    {
     "name": "stdout",
     "output_type": "stream",
     "text": [
      "[[1, 30, 40], [3, 40, 100], [2, 50, 10]]\n",
      "[[2, 50, 10], [1, 30, 40], [3, 40, 100]]\n"
     ]
    }
   ],
   "source": [
    "stud=[[1, 30,  40],[3,40,100],[2,50,10]]\n",
    "print(stud)\n",
    "for i in stud:\n",
    "    i.reverse()\n",
    "stud.sort()\n",
    "for i in stud:\n",
    "    i.reverse()\n",
    "print(stud)"
   ]
  },
  {
   "cell_type": "markdown",
   "metadata": {},
   "source": [
    "# 1.find the sum of digits   \n",
    "# 2.num of characters(a-z and A-Z)\n",
    "# 3.num of digits\n",
    "# 4.avg of digits"
   ]
  },
  {
   "cell_type": "code",
   "execution_count": 61,
   "metadata": {},
   "outputs": [],
   "source": [
    "data=\"sairam 1234 lakshmi\""
   ]
  },
  {
   "cell_type": "code",
   "execution_count": 2,
   "metadata": {},
   "outputs": [],
   "source": [
    "#1\n",
    "def sod(data):\n",
    "    result=0\n",
    "    for i in data:\n",
    "        if i.isdigit():\n",
    "            result+=int(i)\n",
    "    return result"
   ]
  },
  {
   "cell_type": "markdown",
   "metadata": {},
   "source": [
    "# find luckest num "
   ]
  },
  {
   "cell_type": "code",
   "execution_count": 3,
   "metadata": {},
   "outputs": [
    {
     "name": "stdout",
     "output_type": "stream",
     "text": [
      "8520\n",
      "6\n"
     ]
    }
   ],
   "source": [
    "data=input('')\n",
    "while True:\n",
    "    result=str(sod(data))\n",
    "    if len(result)>1:\n",
    "        data=result\n",
    "    else:\n",
    "        break\n",
    "print(result)\n",
    "        \n",
    "    "
   ]
  },
  {
   "cell_type": "markdown",
   "metadata": {},
   "source": [
    "# find the freq of char"
   ]
  },
  {
   "cell_type": "code",
   "execution_count": 67,
   "metadata": {},
   "outputs": [
    {
     "name": "stdout",
     "output_type": "stream",
     "text": [
      "14\n"
     ]
    }
   ],
   "source": [
    "name='python program'\n",
    "freq={}\n",
    "c=0\n",
    "for latters in name:\n",
    "    c+=1\n",
    "print(c)\n",
    "    "
   ]
  },
  {
   "cell_type": "markdown",
   "metadata": {},
   "source": [
    "# find the freq of urls"
   ]
  },
  {
   "cell_type": "code",
   "execution_count": 73,
   "metadata": {},
   "outputs": [
    {
     "name": "stdout",
     "output_type": "stream",
     "text": [
      "['www.google.com', 'www.gmail.com', 'www.yahoo,com', 'www.google.com']\n"
     ]
    }
   ],
   "source": [
    "urls=['www.google.com','www.gmail.com','www.yahoo,com','www.google.com']\n",
    "\n",
    "print(urls)\n",
    "freq={}\n",
    "c=0\n",
    "for latters in urls:\n",
    "    c+=1\n",
    "#print(c)\n",
    "    "
   ]
  },
  {
   "cell_type": "markdown",
   "metadata": {},
   "source": [
    "#   ----------------------------  4-SEP-2019    ---------------------------------"
   ]
  },
  {
   "cell_type": "markdown",
   "metadata": {},
   "source": [
    "## develop pattern for company name end with 'e' and mus and shold be 5 characters only"
   ]
  },
  {
   "cell_type": "code",
   "execution_count": 30,
   "metadata": {},
   "outputs": [
    {
     "name": "stdout",
     "output_type": "stream",
     "text": [
      "apple\n"
     ]
    }
   ],
   "source": [
    "import re\n",
    "companies=['apple','microsoft','google','tcs']\n",
    "for i in companies:\n",
    "    if re.search('^....e$',i):\n",
    "        print(i)"
   ]
  },
  {
   "cell_type": "code",
   "execution_count": 39,
   "metadata": {},
   "outputs": [
    {
     "name": "stdout",
     "output_type": "stream",
     "text": [
      "apple\n",
      "plijn\n"
     ]
    }
   ],
   "source": [
    "import re\n",
    "companies=['apple','microsoft','google','tcs','plijn']\n",
    "for i in companies:\n",
    "    if re.search('^.{5}$',i):\n",
    "        print(i)"
   ]
  },
  {
   "cell_type": "code",
   "execution_count": 40,
   "metadata": {},
   "outputs": [
    {
     "name": "stdout",
     "output_type": "stream",
     "text": [
      "9848022338\n",
      "9848022337\n"
     ]
    }
   ],
   "source": [
    "import re\n",
    "mobile=['9848022338','8848022338','7848022338','6848022338','9848022337']\n",
    "for i in mobile:\n",
    "    if re.search('^9',i):\n",
    "        print(i)"
   ]
  },
  {
   "cell_type": "code",
   "execution_count": 42,
   "metadata": {},
   "outputs": [
    {
     "name": "stdout",
     "output_type": "stream",
     "text": [
      "9848022338\n",
      "8848022338\n",
      "7848022338\n",
      "6848022338\n"
     ]
    }
   ],
   "source": [
    "import re\n",
    "mobile=['9848022338','8848022338','7848022338','6848022338','5848022337']\n",
    "for i in mobile:\n",
    "    if re.search('^[9876]',i):\n",
    "        print(i)"
   ]
  },
  {
   "cell_type": "code",
   "execution_count": 47,
   "metadata": {},
   "outputs": [
    {
     "name": "stdout",
     "output_type": "stream",
     "text": [
      "9848022338\n",
      "8848022338\n",
      "7848022338\n",
      "6848022338\n",
      "9848022337\n"
     ]
    }
   ],
   "source": [
    "import re\n",
    "mobile=['9848022338','8848022338','7848022338','6848022338','9848022337','00215545']\n",
    "for i in mobile:\n",
    "    if re.search('^[6-9]',i):\n",
    "        print(i)"
   ]
  },
  {
   "cell_type": "code",
   "execution_count": 50,
   "metadata": {},
   "outputs": [
    {
     "name": "stdout",
     "output_type": "stream",
     "text": [
      "9848022338\n",
      "6848022338\n",
      "9848022337\n",
      "00215545\n"
     ]
    }
   ],
   "source": [
    "import re\n",
    "mobile=['9848022338','8848022338','7848022338','6848022338','9848022337','00215545']\n",
    "for i in mobile:\n",
    "    if re.search('^[^78]',i):\n",
    "        print(i)"
   ]
  },
  {
   "cell_type": "markdown",
   "metadata": {},
   "source": [
    "# select the specific mobile numbers\n"
   ]
  },
  {
   "cell_type": "code",
   "execution_count": 54,
   "metadata": {},
   "outputs": [
    {
     "name": "stdout",
     "output_type": "stream",
     "text": [
      "9848022338\n",
      "8848022338\n",
      "7848022338\n",
      "9848022337\n"
     ]
    }
   ],
   "source": [
    "import re\n",
    "mobile=['9848022338','8848022338','7848022338','6848b22338','9848022337','0021555545']\n",
    "for i in mobile:\n",
    "    if re.search('^[6-9]\\d{9}$',i):\n",
    "        print(i)"
   ]
  },
  {
   "cell_type": "code",
   "execution_count": 2,
   "metadata": {},
   "outputs": [
    {
     "name": "stdout",
     "output_type": "stream",
     "text": [
      "iamfromnarsapurmymobilenumiswestayherefromlastyears"
     ]
    }
   ],
   "source": [
    "import re\n",
    "message=\"i am from narsapur $my mobile num is 7894561230 we stay here from last 5 years\"\n",
    "for s in message:\n",
    "    if re.findall('[a-z]+',s):\n",
    "        print(s,end=\"\")"
   ]
  },
  {
   "cell_type": "markdown",
   "metadata": {},
   "source": [
    "find given num is valied or not in given pattern"
   ]
  },
  {
   "cell_type": "code",
   "execution_count": 36,
   "metadata": {},
   "outputs": [],
   "source": [
    "def isvalid(num):\n",
    "    if re.search('^[6-9]\\d{9}$',num):\n",
    "        return True\n",
    "    return False\n"
   ]
  },
  {
   "cell_type": "code",
   "execution_count": 32,
   "metadata": {},
   "outputs": [
    {
     "ename": "TypeError",
     "evalue": "expected string or bytes-like object",
     "output_type": "error",
     "traceback": [
      "\u001b[1;31m---------------------------------------------------------------------------\u001b[0m",
      "\u001b[1;31mTypeError\u001b[0m                                 Traceback (most recent call last)",
      "\u001b[1;32m<ipython-input-32-4943cf4080a3>\u001b[0m in \u001b[0;36m<module>\u001b[1;34m\u001b[0m\n\u001b[1;32m----> 1\u001b[1;33m \u001b[0misvalid\u001b[0m\u001b[1;33m(\u001b[0m\u001b[1;36m9632587410\u001b[0m\u001b[1;33m)\u001b[0m\u001b[1;33m\u001b[0m\u001b[1;33m\u001b[0m\u001b[0m\n\u001b[0m",
      "\u001b[1;32m<ipython-input-31-4ab59d44b8a5>\u001b[0m in \u001b[0;36misvalid\u001b[1;34m(num)\u001b[0m\n\u001b[0;32m      1\u001b[0m \u001b[1;32mdef\u001b[0m \u001b[0misvalid\u001b[0m\u001b[1;33m(\u001b[0m\u001b[0mnum\u001b[0m\u001b[1;33m)\u001b[0m\u001b[1;33m:\u001b[0m\u001b[1;33m\u001b[0m\u001b[1;33m\u001b[0m\u001b[0m\n\u001b[1;32m----> 2\u001b[1;33m     \u001b[1;32mif\u001b[0m \u001b[0mint\u001b[0m\u001b[1;33m(\u001b[0m\u001b[0mre\u001b[0m\u001b[1;33m.\u001b[0m\u001b[0msearch\u001b[0m\u001b[1;33m(\u001b[0m\u001b[1;34m'^[6-9]\\d{9}$'\u001b[0m\u001b[1;33m,\u001b[0m\u001b[0mnum\u001b[0m\u001b[1;33m)\u001b[0m\u001b[1;33m)\u001b[0m\u001b[1;33m:\u001b[0m\u001b[1;33m\u001b[0m\u001b[1;33m\u001b[0m\u001b[0m\n\u001b[0m\u001b[0;32m      3\u001b[0m         \u001b[1;32mreturn\u001b[0m \u001b[1;32mTrue\u001b[0m\u001b[1;33m\u001b[0m\u001b[1;33m\u001b[0m\u001b[0m\n\u001b[0;32m      4\u001b[0m     \u001b[1;32mreturn\u001b[0m \u001b[1;32mFalse\u001b[0m\u001b[1;33m\u001b[0m\u001b[1;33m\u001b[0m\u001b[0m\n",
      "\u001b[1;32mC:\\ProgramData\\Anaconda3\\lib\\re.py\u001b[0m in \u001b[0;36msearch\u001b[1;34m(pattern, string, flags)\u001b[0m\n\u001b[0;32m    181\u001b[0m     \"\"\"Scan through string looking for a match to the pattern, returning\n\u001b[0;32m    182\u001b[0m     a Match object, or None if no match was found.\"\"\"\n\u001b[1;32m--> 183\u001b[1;33m     \u001b[1;32mreturn\u001b[0m \u001b[0m_compile\u001b[0m\u001b[1;33m(\u001b[0m\u001b[0mpattern\u001b[0m\u001b[1;33m,\u001b[0m \u001b[0mflags\u001b[0m\u001b[1;33m)\u001b[0m\u001b[1;33m.\u001b[0m\u001b[0msearch\u001b[0m\u001b[1;33m(\u001b[0m\u001b[0mstring\u001b[0m\u001b[1;33m)\u001b[0m\u001b[1;33m\u001b[0m\u001b[1;33m\u001b[0m\u001b[0m\n\u001b[0m\u001b[0;32m    184\u001b[0m \u001b[1;33m\u001b[0m\u001b[0m\n\u001b[0;32m    185\u001b[0m \u001b[1;32mdef\u001b[0m \u001b[0msub\u001b[0m\u001b[1;33m(\u001b[0m\u001b[0mpattern\u001b[0m\u001b[1;33m,\u001b[0m \u001b[0mrepl\u001b[0m\u001b[1;33m,\u001b[0m \u001b[0mstring\u001b[0m\u001b[1;33m,\u001b[0m \u001b[0mcount\u001b[0m\u001b[1;33m=\u001b[0m\u001b[1;36m0\u001b[0m\u001b[1;33m,\u001b[0m \u001b[0mflags\u001b[0m\u001b[1;33m=\u001b[0m\u001b[1;36m0\u001b[0m\u001b[1;33m)\u001b[0m\u001b[1;33m:\u001b[0m\u001b[1;33m\u001b[0m\u001b[1;33m\u001b[0m\u001b[0m\n",
      "\u001b[1;31mTypeError\u001b[0m: expected string or bytes-like object"
     ]
    }
   ],
   "source": [
    "isvalid(9632587410)"
   ]
  },
  {
   "cell_type": "markdown",
   "metadata": {},
   "source": [
    "find given name is valid are not"
   ]
  },
  {
   "cell_type": "code",
   "execution_count": 29,
   "metadata": {},
   "outputs": [],
   "source": [
    "def isvalidperson(name):\n",
    "    if re.search('^[a-zA-Z]+[ .]{0,1}[a-zA-Z]+$',name):\n",
    "        return True\n",
    "    return False\n",
    "    "
   ]
  },
  {
   "cell_type": "code",
   "execution_count": 33,
   "metadata": {},
   "outputs": [
    {
     "data": {
      "text/plain": [
       "True"
      ]
     },
     "execution_count": 33,
     "metadata": {},
     "output_type": "execute_result"
    }
   ],
   "source": [
    "isvalidperson(\"s.balaji\")"
   ]
  },
  {
   "cell_type": "code",
   "execution_count": null,
   "metadata": {},
   "outputs": [],
   "source": [
    "define"
   ]
  }
 ],
 "metadata": {
  "kernelspec": {
   "display_name": "Python 3",
   "language": "python",
   "name": "python3"
  },
  "language_info": {
   "codemirror_mode": {
    "name": "ipython",
    "version": 3
   },
   "file_extension": ".py",
   "mimetype": "text/x-python",
   "name": "python",
   "nbconvert_exporter": "python",
   "pygments_lexer": "ipython3",
   "version": "3.7.3"
  }
 },
 "nbformat": 4,
 "nbformat_minor": 2
}
