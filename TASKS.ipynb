{
 "cells": [
  {
   "cell_type": "markdown",
   "metadata": {},
   "source": [
    "# .........................................   27-AUG-2019    ........................................."
   ]
  },
  {
   "cell_type": "markdown",
   "metadata": {},
   "source": [
    "# 1.first 15 prime numbers"
   ]
  },
  {
   "cell_type": "code",
   "execution_count": 1,
   "metadata": {},
   "outputs": [
    {
     "name": "stdout",
     "output_type": "stream",
     "text": [
      "enter the lowset num:0\n",
      "enter the highest num:90\n",
      "2\n",
      "3\n",
      "5\n",
      "7\n",
      "11\n",
      "13\n",
      "17\n",
      "19\n",
      "23\n",
      "29\n",
      "31\n",
      "37\n",
      "41\n",
      "43\n",
      "47\n",
      "53\n",
      "59\n",
      "61\n",
      "67\n",
      "71\n",
      "73\n",
      "79\n",
      "83\n",
      "89\n"
     ]
    }
   ],
   "source": [
    "lower=int(input(\"enter the lowset num:\"))\n",
    "upper=int(input(\"enter the highest num:\"))\n",
    "for num in range(lower,upper + 1):\n",
    "   if num > 1:\n",
    "       for i in range(2,num):\n",
    "           if (num % i) == 0:\n",
    "               break\n",
    "       else:\n",
    "           print(num)"
   ]
  },
  {
   "cell_type": "markdown",
   "metadata": {},
   "source": [
    "# 2. factorial of given number"
   ]
  },
  {
   "cell_type": "code",
   "execution_count": 2,
   "metadata": {},
   "outputs": [
    {
     "name": "stdout",
     "output_type": "stream",
     "text": [
      "enter the num:5\n",
      "The fac of 5 is 120\n"
     ]
    }
   ],
   "source": [
    "num =int(input(\"enter the num:\"))\n",
    "fac = 1\n",
    "if num < 0:\n",
    "   print(\"Sorry, fac does not exist for negative numbers\")\n",
    "elif num == 0:\n",
    "   print(\"The fac of 0 is 1\")\n",
    "else:\n",
    "   for i in range(1,num + 1):\n",
    "       fac = fac*i\n",
    "   print(\"The fac of\",num,\"is\",fac)"
   ]
  },
  {
   "cell_type": "markdown",
   "metadata": {},
   "source": [
    "# 3.num exist in a given range(i/p:num(n),range(lower num and upper num)"
   ]
  },
  {
   "cell_type": "code",
   "execution_count": 3,
   "metadata": {},
   "outputs": [
    {
     "name": "stdout",
     "output_type": "stream",
     "text": [
      "enter a val:10\n",
      "10 given num is exist\n"
     ]
    }
   ],
   "source": [
    "a=int(input(\"enter a val:\"))\n",
    "if a<=70:\n",
    "    print(a,\"given num is exist\")\n",
    "else :\n",
    "    print(a,\"given num is not exist\")"
   ]
  },
  {
   "cell_type": "markdown",
   "metadata": {},
   "source": [
    "# 4.give no is factor of 1000 or not"
   ]
  },
  {
   "cell_type": "code",
   "execution_count": 1,
   "metadata": {},
   "outputs": [
    {
     "name": "stdout",
     "output_type": "stream",
     "text": [
      "enter the num10\n",
      "factor of 1000\n"
     ]
    }
   ],
   "source": [
    "num=int(input(\"enter the num\"))\n",
    "if 1000%num==0:\n",
    "    print(\"factor of 1000\")\n",
    "else:\n",
    "    print(\"no is not factor\")\n"
   ]
  },
  {
   "cell_type": "markdown",
   "metadata": {},
   "source": [
    "# 5.num of digits in given num"
   ]
  },
  {
   "cell_type": "code",
   "execution_count": null,
   "metadata": {},
   "outputs": [
    {
     "name": "stdout",
     "output_type": "stream",
     "text": [
      "Enter number:25\n",
      "The number of digits in the number are: 2\n"
     ]
    }
   ],
   "source": [
    "n=int(input(\"Enter number:\"))\n",
    "count=0\n",
    "while(n>0):\n",
    "    count=count+1\n",
    "    n=n//10\n",
    "print(\"The number of digits in the number are:\",count)"
   ]
  },
  {
   "cell_type": "markdown",
   "metadata": {},
   "source": [
    "# 6.square root of given num\n"
   ]
  },
  {
   "cell_type": "code",
   "execution_count": null,
   "metadata": {},
   "outputs": [
    {
     "name": "stdout",
     "output_type": "stream",
     "text": [
      "enter the num5\n"
     ]
    }
   ],
   "source": [
    "num=int(input(\"enter the num\"))\n",
    "num_sqrt = num ** 0.5\n",
    "print('The square root of %0.3f is %0.3f'%(num ,num_sqrt))"
   ]
  },
  {
   "cell_type": "markdown",
   "metadata": {},
   "source": [
    "# 7.count of the num and avg of the num taken by the user"
   ]
  },
  {
   "cell_type": "code",
   "execution_count": 2,
   "metadata": {},
   "outputs": [
    {
     "name": "stdout",
     "output_type": "stream",
     "text": [
      "Enter Number to calculate sum50\n",
      "num: 1275 average: 25.5\n"
     ]
    }
   ],
   "source": [
    "n = input(\"Enter Number to calculate sum\")\n",
    "n = int (n)\n",
    "avg = 0\n",
    "sum = 0\n",
    "for num in range(0,n+1,1):\n",
    "    sum = sum+num\n",
    "    avg = sum/n\n",
    "print(\"num:\", sum ,\"average:\",avg)"
   ]
  },
  {
   "cell_type": "markdown",
   "metadata": {},
   "source": [
    "# 8.given string is pallindrum are not"
   ]
  },
  {
   "cell_type": "code",
   "execution_count": 3,
   "metadata": {},
   "outputs": [
    {
     "name": "stdout",
     "output_type": "stream",
     "text": [
      "abb\n",
      "it is not pallindrum\n"
     ]
    },
    {
     "data": {
      "text/plain": [
       "'abb'"
      ]
     },
     "execution_count": 3,
     "metadata": {},
     "output_type": "execute_result"
    }
   ],
   "source": [
    "a=input()\n",
    "if a==a[-1::-1]:\n",
    "    print(\"it is a pallindrum\")\n",
    "else :\n",
    "    print(\"it is not pallindrum\")\n",
    "a[:]"
   ]
  },
  {
   "cell_type": "markdown",
   "metadata": {},
   "source": [
    "# 9.serial of all prime num till N(loop)"
   ]
  },
  {
   "cell_type": "code",
   "execution_count": 3,
   "metadata": {},
   "outputs": [
    {
     "name": "stdout",
     "output_type": "stream",
     "text": [
      "enter the lowset num:0\n",
      "2\n",
      "3\n",
      "5\n",
      "7\n",
      "11\n",
      "13\n",
      "17\n",
      "19\n",
      "23\n",
      "29\n",
      "31\n",
      "37\n",
      "41\n",
      "43\n",
      "47\n",
      "53\n",
      "59\n",
      "61\n",
      "67\n",
      "71\n",
      "73\n",
      "79\n"
     ]
    }
   ],
   "source": [
    "lower=int(input(\"enter the lowset num:\"))\n",
    "upper=int(80)\n",
    "for num in range(lower,upper+1):\n",
    "    \n",
    "   if num > 1:\n",
    "       for i in range(2,num):\n",
    "           if (num % i) == 0:\n",
    "               break\n",
    "       else:\n",
    "           print(num)"
   ]
  },
  {
   "cell_type": "markdown",
   "metadata": {},
   "source": [
    "# 10.given 3 integers i,r and k. find how many num b/w i and r (both inclusive) are div by k"
   ]
  },
  {
   "cell_type": "code",
   "execution_count": 27,
   "metadata": {},
   "outputs": [
    {
     "name": "stdout",
     "output_type": "stream",
     "text": [
      "0\n",
      "20\n",
      "2\n",
      "0 it is divisable with k\n",
      "2 it is divisable with k\n",
      "4 it is divisable with k\n",
      "6 it is divisable with k\n",
      "8 it is divisable with k\n",
      "10 it is divisable with k\n",
      "12 it is divisable with k\n",
      "14 it is divisable with k\n",
      "16 it is divisable with k\n",
      "18 it is divisable with k\n",
      "20 it is divisable with k\n"
     ]
    }
   ],
   "source": [
    "i=int(input())\n",
    "r=int(input())\n",
    "k=int(input())\n",
    "for n in range(i,r+1):\n",
    "    if (n%k==0):\n",
    "        print(n,'it is divisable with k')\n"
   ]
  },
  {
   "cell_type": "markdown",
   "metadata": {},
   "source": [
    "# 11. n(+,-,*,/,)m operations in single i/p"
   ]
  },
  {
   "cell_type": "code",
   "execution_count": 39,
   "metadata": {},
   "outputs": [
    {
     "name": "stdout",
     "output_type": "stream",
     "text": [
      "5 + 2\n",
      "7\n"
     ]
    }
   ],
   "source": [
    "a=input(\"\")\n",
    "a=a.split()\n",
    "if a[1]=='+':\n",
    "    o=int(a[0])+int(a[2])\n",
    "if a[1]=='-':\n",
    "    o=int(a[0])-int(a[2])\n",
    "if a[1]=='*':\n",
    "    o=int(a[0])*int(a[2])\n",
    "if a[1]=='/':\n",
    "    o=int(a[0])/int(a[2])\n",
    "print(o)"
   ]
  },
  {
   "cell_type": "code",
   "execution_count": 7,
   "metadata": {},
   "outputs": [
    {
     "name": "stdout",
     "output_type": "stream",
     "text": [
      "enter the num:1\n",
      "enter the num:2\n"
     ]
    }
   ],
   "source": [
    "a=int(input(\"enter the num:\"))\n",
    "for i in range(a,42+1):\n",
    "    if a==43:\n",
    "        break\n",
    "else :\n",
    "     a=int(input(\"enter the num:\"))"
   ]
  },
  {
   "cell_type": "code",
   "execution_count": 2,
   "metadata": {},
   "outputs": [
    {
     "name": "stdout",
     "output_type": "stream",
     "text": [
      "1\n",
      "1\n",
      "1\n",
      "2\n",
      "2\n",
      "3\n",
      "3\n",
      "43\n"
     ]
    }
   ],
   "source": [
    "a=1\n",
    "while a<42:\n",
    "    print(a)\n",
    "    a=int(input(\"\"))"
   ]
  },
  {
   "cell_type": "code",
   "execution_count": 36,
   "metadata": {},
   "outputs": [
    {
     "ename": "SyntaxError",
     "evalue": "invalid syntax (<ipython-input-36-595be6b8be23>, line 6)",
     "output_type": "error",
     "traceback": [
      "\u001b[1;36m  File \u001b[1;32m\"<ipython-input-36-595be6b8be23>\"\u001b[1;36m, line \u001b[1;32m6\u001b[0m\n\u001b[1;33m    elif (w>=h)<l:\u001b[0m\n\u001b[1;37m       ^\u001b[0m\n\u001b[1;31mSyntaxError\u001b[0m\u001b[1;31m:\u001b[0m invalid syntax\n"
     ]
    }
   ],
   "source": [
    "l=180\n",
    "a=input().split()\n",
    "if int(len(a)==2):\n",
    "    if(len(a[0])>l and len(a[2])>l):\n",
    "        \n",
    "if (w<=h)<l:\n",
    "    print(\"upload another\")\n",
    "if w==h>=h:\n",
    "    print(\"accepted\")\n",
    "else:\n",
    "    print(\"crop it\")\n"
   ]
  },
  {
   "cell_type": "code",
   "execution_count": null,
   "metadata": {},
   "outputs": [],
   "source": []
  }
 ],
 "metadata": {
  "kernelspec": {
   "display_name": "Python 3",
   "language": "python",
   "name": "python3"
  },
  "language_info": {
   "codemirror_mode": {
    "name": "ipython",
    "version": 3
   },
   "file_extension": ".py",
   "mimetype": "text/x-python",
   "name": "python",
   "nbconvert_exporter": "python",
   "pygments_lexer": "ipython3",
   "version": "3.7.3"
  }
 },
 "nbformat": 4,
 "nbformat_minor": 2
}
