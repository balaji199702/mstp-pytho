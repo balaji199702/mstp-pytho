{
 "cells": [
  {
   "cell_type": "markdown",
   "metadata": {},
   "source": [
    "# rename all the files in the current directory by adding numbers to starting of every file"
   ]
  },
  {
   "cell_type": "code",
   "execution_count": 1,
   "metadata": {},
   "outputs": [],
   "source": [
    "import os"
   ]
  },
  {
   "cell_type": "code",
   "execution_count": 2,
   "metadata": {},
   "outputs": [
    {
     "name": "stdout",
     "output_type": "stream",
     "text": [
      "before  ['.ipynb_checkpoints', '07-SEP-2019.ipynb', '1-.ipynb_checkpoints', '10-art.py', '11-book.txt', '12-game', '13-hackerearth.ipynb', '14-mymodule.py', '15-newreport.ipynb', '16-notes.txt', '17-report.txt', '18-report1.txt', '19-TASK--5-SEP-2019.ipynb', '2-06-SEP-2019.ipynb', '20-TASKS--07-SEP-2019.ipynb', '21-TASKS--6-SEP-2019.ipynb', '22-TASKS.ipynb', '23-__pycache__', '3-07-SEP-2019.ipynb', '4-26-AUG-2019.ipynb', '5-27-AUG-2019.ipynb', '6-28-AUG-2019.ipynb', '7-3-SEP-2019.ipynb', '8-4-SEP-2019.ipynb', '9-5-SEP-2019.ipynb', 'hackerearth.ipynb', 'TASKS--07-SEP-2019.ipynb']\n"
     ]
    },
    {
     "ename": "FileExistsError",
     "evalue": "[WinError 183] Cannot create a file when that file already exists: '.ipynb_checkpoints' -> '1-.ipynb_checkpoints'",
     "output_type": "error",
     "traceback": [
      "\u001b[1;31m---------------------------------------------------------------------------\u001b[0m",
      "\u001b[1;31mFileExistsError\u001b[0m                           Traceback (most recent call last)",
      "\u001b[1;32m<ipython-input-2-006ba7903455>\u001b[0m in \u001b[0;36m<module>\u001b[1;34m\u001b[0m\n\u001b[0;32m      4\u001b[0m \u001b[1;32mfor\u001b[0m \u001b[0moldname\u001b[0m \u001b[1;32min\u001b[0m \u001b[0mos\u001b[0m\u001b[1;33m.\u001b[0m\u001b[0mlistdir\u001b[0m\u001b[1;33m(\u001b[0m\u001b[1;33m)\u001b[0m\u001b[1;33m:\u001b[0m\u001b[1;33m\u001b[0m\u001b[1;33m\u001b[0m\u001b[0m\n\u001b[0;32m      5\u001b[0m     \u001b[0mnewname\u001b[0m\u001b[1;33m=\u001b[0m\u001b[0mstr\u001b[0m\u001b[1;33m(\u001b[0m\u001b[0mcount\u001b[0m\u001b[1;33m)\u001b[0m\u001b[1;33m+\u001b[0m\u001b[1;34m'-'\u001b[0m\u001b[1;33m+\u001b[0m\u001b[0moldname\u001b[0m\u001b[1;33m\u001b[0m\u001b[1;33m\u001b[0m\u001b[0m\n\u001b[1;32m----> 6\u001b[1;33m     \u001b[0mos\u001b[0m\u001b[1;33m.\u001b[0m\u001b[0mrename\u001b[0m\u001b[1;33m(\u001b[0m\u001b[0moldname\u001b[0m\u001b[1;33m,\u001b[0m\u001b[0mnewname\u001b[0m\u001b[1;33m)\u001b[0m\u001b[1;33m\u001b[0m\u001b[1;33m\u001b[0m\u001b[0m\n\u001b[0m\u001b[0;32m      7\u001b[0m     \u001b[0mcount\u001b[0m\u001b[1;33m+=\u001b[0m\u001b[1;36m1\u001b[0m\u001b[1;33m\u001b[0m\u001b[1;33m\u001b[0m\u001b[0m\n",
      "\u001b[1;31mFileExistsError\u001b[0m: [WinError 183] Cannot create a file when that file already exists: '.ipynb_checkpoints' -> '1-.ipynb_checkpoints'"
     ]
    }
   ],
   "source": [
    "\n",
    "print('before ',os.listdir())\n",
    "count=1\n",
    "for oldname in os.listdir():\n",
    "    newname=str(count)+'-'+oldname\n",
    "    os.rename(oldname,newname)\n",
    "    count+=1"
   ]
  },
  {
   "cell_type": "code",
   "execution_count": null,
   "metadata": {},
   "outputs": [],
   "source": [
    "mylist=[10,100,300,400]\n",
    "mylist.insert(0,mylist.pop(3))\n",
    "mylist"
   ]
  },
  {
   "cell_type": "code",
   "execution_count": null,
   "metadata": {},
   "outputs": [],
   "source": [
    "d ={'ram':200}\n",
    "d['ram']+=20\n",
    "d"
   ]
  },
  {
   "cell_type": "code",
   "execution_count": null,
   "metadata": {},
   "outputs": [],
   "source": [
    "s='sai123ram345'\n",
    "sum([int(i) for i in s if i.isdigit()])"
   ]
  },
  {
   "cell_type": "code",
   "execution_count": null,
   "metadata": {},
   "outputs": [],
   "source": [
    "s='sai 123 ram 435'\n",
    "s.replace(' ','')"
   ]
  },
  {
   "cell_type": "code",
   "execution_count": null,
   "metadata": {},
   "outputs": [],
   "source": [
    "s='sai 123 ram 345'\n",
    "sum([int(i) for i in s.split() if i.isdigit()])\n"
   ]
  },
  {
   "cell_type": "code",
   "execution_count": null,
   "metadata": {},
   "outputs": [],
   "source": [
    "s='sairam sailashmi'\n",
    "''.join([i.upper() if i=='s' or i=='i' else i for i in s])"
   ]
  },
  {
   "cell_type": "code",
   "execution_count": null,
   "metadata": {},
   "outputs": [],
   "source": [
    "s={'name':'sai','branch':'ece'}\n",
    "y=[print(key,value) for key,value in s.items()]"
   ]
  },
  {
   "cell_type": "code",
   "execution_count": null,
   "metadata": {},
   "outputs": [],
   "source": [
    "s='sai123ram124'\n",
    "re.findall('\\d+',data)"
   ]
  },
  {
   "cell_type": "code",
   "execution_count": null,
   "metadata": {},
   "outputs": [],
   "source": [
    "s=['sai','surya','ramu','lakshmi','sri']\n",
    "sum(len(i) for i in s)"
   ]
  },
  {
   "cell_type": "code",
   "execution_count": null,
   "metadata": {},
   "outputs": [],
   "source": [
    "names=['sai','surya','ramu','lakshmi','sri']\n",
    "groups={'A':[],'B':[]}\n",
    "for name in names:\n",
    "    if i==a:\n",
    "        groups['A'].append(name)\n",
    "    else:\n",
    "        groups['B'].append(name)\n",
    "print(groups)"
   ]
  },
  {
   "cell_type": "code",
   "execution_count": null,
   "metadata": {},
   "outputs": [],
   "source": [
    "import re\n",
    "names=['sai','surya','ramu','lakshmi','sri']\n",
    "groups={'A':[],'B':[]}\n",
    "for name in names:\n",
    "    \n"
   ]
  },
  {
   "cell_type": "code",
   "execution_count": null,
   "metadata": {},
   "outputs": [],
   "source": [
    "print(1,10,30,50,sep='\\n')"
   ]
  },
  {
   "cell_type": "code",
   "execution_count": null,
   "metadata": {},
   "outputs": [],
   "source": [
    "2 and 3"
   ]
  },
  {
   "cell_type": "code",
   "execution_count": null,
   "metadata": {},
   "outputs": [],
   "source": [
    "s=['abc','cab','bca','xyz']\n",
    "s.sort(key=lambda s:s[2])\n",
    "s"
   ]
  },
  {
   "cell_type": "markdown",
   "metadata": {},
   "source": [
    "### take the data everytime untii user DONE print minimum and max num"
   ]
  },
  {
   "cell_type": "code",
   "execution_count": 4,
   "metadata": {},
   "outputs": [
    {
     "name": "stdout",
     "output_type": "stream",
     "text": [
      "1\n",
      "2\n",
      "3\n",
      "5\n",
      "7\n",
      "0\n",
      "done\n",
      "max is=7 min is=0\n"
     ]
    }
   ],
   "source": [
    "high=0\n",
    "low=0\n",
    "while True:\n",
    "    num=input()\n",
    "    if num=='done':\n",
    "        break\n",
    "    elif num.isdigit():\n",
    "        if high is 0:\n",
    "            high=num\n",
    "        elif high<num:\n",
    "            high=num\n",
    "        if low is 0:\n",
    "            low=num\n",
    "        elif num<low:\n",
    "            low=num\n",
    "print('max is='+high , 'min is='+low)\n"
   ]
  },
  {
   "cell_type": "code",
   "execution_count": 6,
   "metadata": {},
   "outputs": [
    {
     "name": "stdout",
     "output_type": "stream",
     "text": [
      "give data1\n",
      "give data2\n",
      "give datadone\n",
      "min 1\n",
      "max 2\n"
     ]
    }
   ],
   "source": [
    "num=[]\n",
    "while True:\n",
    "    data=input('give data')\n",
    "    if data=='done':\n",
    "        break\n",
    "    elif data.isdigit():\n",
    "        num.append(int(data))\n",
    "if len(num)>0:\n",
    "    print('min',min(num))\n",
    "    print('max',max(num))\n",
    "else:\n",
    "    print('user not given num')"
   ]
  },
  {
   "cell_type": "code",
   "execution_count": 11,
   "metadata": {},
   "outputs": [
    {
     "data": {
      "text/plain": [
       "25"
      ]
     },
     "execution_count": 11,
     "metadata": {},
     "output_type": "execute_result"
    }
   ],
   "source": [
    "s='ram123s7ai345'\n",
    "\n",
    "sum(int(i) for i in s if i.isdigit())"
   ]
  },
  {
   "cell_type": "code",
   "execution_count": 23,
   "metadata": {},
   "outputs": [
    {
     "data": {
      "text/plain": [
       "123"
      ]
     },
     "execution_count": 23,
     "metadata": {},
     "output_type": "execute_result"
    }
   ],
   "source": [
    "import re\n",
    "s='ram123s7ai345'\n",
    "sum(list(map(int,re.findall('1\\d+',s))))"
   ]
  },
  {
   "cell_type": "code",
   "execution_count": 25,
   "metadata": {},
   "outputs": [
    {
     "data": {
      "text/plain": [
       "268"
      ]
     },
     "execution_count": 25,
     "metadata": {},
     "output_type": "execute_result"
    }
   ],
   "source": [
    "import re\n",
    "s='ram123s7ai145'\n",
    "sum(list(map(int,re.findall('1\\d+',s))))"
   ]
  },
  {
   "cell_type": "code",
   "execution_count": 28,
   "metadata": {},
   "outputs": [
    {
     "data": {
      "text/plain": [
       "0"
      ]
     },
     "execution_count": 28,
     "metadata": {},
     "output_type": "execute_result"
    }
   ],
   "source": [
    "a=0\n",
    "for each in range(10):\n",
    "    a+=1\n",
    "    break\n",
    "each"
   ]
  },
  {
   "cell_type": "code",
   "execution_count": null,
   "metadata": {},
   "outputs": [],
   "source": []
  }
 ],
 "metadata": {
  "kernelspec": {
   "display_name": "Python 3",
   "language": "python",
   "name": "python3"
  },
  "language_info": {
   "codemirror_mode": {
    "name": "ipython",
    "version": 3
   },
   "file_extension": ".py",
   "mimetype": "text/x-python",
   "name": "python",
   "nbconvert_exporter": "python",
   "pygments_lexer": "ipython3",
   "version": "3.7.3"
  }
 },
 "nbformat": 4,
 "nbformat_minor": 2
}
