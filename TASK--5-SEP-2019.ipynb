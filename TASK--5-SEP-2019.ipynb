{
 "cells": [
  {
   "cell_type": "markdown",
   "metadata": {},
   "source": [
    "# write the conent from book.txt to notes.txt"
   ]
  },
  {
   "cell_type": "code",
   "execution_count": 1,
   "metadata": {},
   "outputs": [],
   "source": [
    "fh=open('book.txt','r')\n",
    "data=fh.read()\n",
    "fh.close()\n",
    "gh=open('notes.txt','a')\n",
    "gh.write(data)\n",
    "gh.close()"
   ]
  },
  {
   "cell_type": "markdown",
   "metadata": {},
   "source": [
    "# 1.find num of lines in book.txt file"
   ]
  },
  {
   "cell_type": "code",
   "execution_count": 2,
   "metadata": {},
   "outputs": [
    {
     "name": "stdout",
     "output_type": "stream",
     "text": [
      "4\n"
     ]
    }
   ],
   "source": [
    "fh = open('book.txt','r')\n",
    "con=0\n",
    "for line in fh:\n",
    "    con+=1\n",
    "print(con)\n",
    "fh.close()"
   ]
  },
  {
   "cell_type": "markdown",
   "metadata": {},
   "source": [
    "# 2.print 3rd line in the file"
   ]
  },
  {
   "cell_type": "code",
   "execution_count": 3,
   "metadata": {
    "scrolled": true
   },
   "outputs": [
    {
     "name": "stdout",
     "output_type": "stream",
     "text": [
      "12  madhu 10 12\n",
      "\n"
     ]
    }
   ],
   "source": [
    "fh = open('book.txt','r')\n",
    "con = 0\n",
    "for line in fh:\n",
    "    if con<3:\n",
    "        con=con+1\n",
    "        f=line\n",
    "print(f)\n",
    "fh.close()"
   ]
  },
  {
   "cell_type": "markdown",
   "metadata": {},
   "source": [
    "# 3.print last character in the 3rd line"
   ]
  },
  {
   "cell_type": "code",
   "execution_count": 4,
   "metadata": {},
   "outputs": [
    {
     "name": "stdout",
     "output_type": "stream",
     "text": [
      "2\n"
     ]
    }
   ],
   "source": [
    "fh = open('book.txt','r')\n",
    "con = 0\n",
    "for line in fh:\n",
    "    if con<3:\n",
    "        con=con+1\n",
    "        f=line\n",
    "print(f[-2:-1])"
   ]
  },
  {
   "cell_type": "markdown",
   "metadata": {},
   "source": [
    "# 4.creat function to return the data in given num"
   ]
  },
  {
   "cell_type": "code",
   "execution_count": 5,
   "metadata": {},
   "outputs": [
    {
     "name": "stdout",
     "output_type": "stream",
     "text": [
      "4\n",
      "data :  13  balaji 10 11\n"
     ]
    }
   ],
   "source": [
    "def dataInLine(a):\n",
    "    data=file.readlines()\n",
    "    return data[a]\n",
    "file = open('book.txt','r')\n",
    "n=int(input())\n",
    "print('data : ',dataInLine(n-1))\n",
    "file.close()"
   ]
  },
  {
   "cell_type": "markdown",
   "metadata": {},
   "source": [
    "# 5.creat function to find the num of characters in file"
   ]
  },
  {
   "cell_type": "code",
   "execution_count": 7,
   "metadata": {},
   "outputs": [
    {
     "name": "stdout",
     "output_type": "stream",
     "text": [
      "4\n",
      "data :  65\n"
     ]
    }
   ],
   "source": [
    "def noChatactersInFile(fn):\n",
    "    file = open('book.txt','r')\n",
    "    data=file.read()\n",
    "    file.close()\n",
    "    return len(data)\n",
    "\n",
    "name=input()\n",
    "print('data : ',noChatactersInFile(name))"
   ]
  },
  {
   "cell_type": "markdown",
   "metadata": {},
   "source": [
    "# 6.creat function to count the occurance of the given character"
   ]
  },
  {
   "cell_type": "code",
   "execution_count": 8,
   "metadata": {},
   "outputs": [
    {
     "name": "stdout",
     "output_type": "stream",
     "text": [
      "4\n",
      "3\n",
      "data :  2\n"
     ]
    }
   ],
   "source": [
    "def OccurenceOfCharInFile(fn,val):\n",
    "    import re\n",
    "    file = open('book.txt','r')\n",
    "    data=file.read()\n",
    "    r=re.findall(val,data)\n",
    "    file.close()\n",
    "    return len(r)\n",
    "\n",
    "name=input()\n",
    "a=input()\n",
    "print('data : ',OccurenceOfCharInFile(name,a))"
   ]
  },
  {
   "cell_type": "markdown",
   "metadata": {},
   "source": [
    "# 7.creat function to find the sum of digits in file"
   ]
  },
  {
   "cell_type": "code",
   "execution_count": 9,
   "metadata": {},
   "outputs": [
    {
     "data": {
      "text/plain": [
       "26"
      ]
     },
     "execution_count": 9,
     "metadata": {},
     "output_type": "execute_result"
    }
   ],
   "source": [
    "def sumDigits(fname):\n",
    "    file=open(fname,'r')\n",
    "    c=0\n",
    "    data=file.read()\n",
    "    for i in data:\n",
    "        if i.isdigit():\n",
    "            c+=int(i)\n",
    "    file.close()\n",
    "    return c\n",
    "\n",
    "sumDigits('book.txt')"
   ]
  },
  {
   "cell_type": "markdown",
   "metadata": {},
   "source": [
    "# 8.creat function to replace the all old word with new in file"
   ]
  },
  {
   "cell_type": "code",
   "execution_count": 10,
   "metadata": {},
   "outputs": [
    {
     "name": "stdout",
     "output_type": "stream",
     "text": [
      "balaji\n",
      "1\n",
      "2\n",
      "['num', 'name', 'edc', 'rs', '\\n11', '', 'baba', '25', '', '30\\n12', '', 'madhu', '10', '12\\n13', '', 'balaji', '10', '11']\n"
     ]
    }
   ],
   "source": [
    "def replaceWord(fname,ow,nw):\n",
    "    file=open(fname,'r')\n",
    "    c=0\n",
    "    data=file.read()\n",
    "    data=data.split(' ')\n",
    "    file.close()\n",
    "    file=open(fname,'w')\n",
    "    for i in data:\n",
    "        if i==ow:\n",
    "            file.write(nw)\n",
    "        else:\n",
    "            file.write(i)\n",
    "    file.close()\n",
    "    return data\n",
    "name=input()\n",
    "a=input()\n",
    "b=input()\n",
    "print(replaceWord('book.txt',a,b))"
   ]
  },
  {
   "cell_type": "code",
   "execution_count": null,
   "metadata": {},
   "outputs": [],
   "source": [
    "fh_i = open('book.txt','r')\n",
    "fh_o = open('report.txt','w')\n",
    "count=0\n",
    "for line in fh_i:\n",
    "    count+=1\n",
    "    if count==1:\n",
    "        fh_o.write(line.strip()+'\\ttotal\\n')\n",
    "    else:\n",
    "        marks_list=line.strip().split()[2:]\n",
    "        newmarks=[]\n",
    "        for each in marks_list:\n",
    "            newmarks.append(int(each))\n",
    "        total_marks=sum(newmarks)\n",
    "        fh_o.write(line.strip()+'\\t'+str(total_marks)+'\\n')\n",
    "        print(total_marks)\n",
    "fh_i.close()\n",
    "fh_o.close()"
   ]
  },
  {
   "cell_type": "markdown",
   "metadata": {},
   "source": [
    "# markes list in accending and desending order using total marks"
   ]
  },
  {
   "cell_type": "code",
   "execution_count": null,
   "metadata": {},
   "outputs": [],
   "source": [
    "fh_i = open('book.txt','r')\n",
    "fh_o = open('report1.txt','w')\n",
    "count=0\n",
    "rows=[]\n",
    "for line in fh_i:\n",
    "    count+=1\n",
    "    if count==1:\n",
    "        fh_o.write(line.strip()+'\\ttotal\\n')\n",
    "    else:\n",
    "        marks_list=line.strip().split()[2:]\n",
    "        newmarks=[]\n",
    "        for each in marks_list:\n",
    "            newmarks.append(int(each))\n",
    "        total_marks=sum(newmarks)\n",
    "        row=line.strip()+'\\t'+str(total_marks)+'\\n'\n",
    "        rows.append([total_marks,row])\n",
    "rows.sort(reverse=True)\n",
    "for row in rows:\n",
    "    fh_o.write(row[1])\n",
    "fh_i.close()\n",
    "fh_o.close()"
   ]
  },
  {
   "cell_type": "code",
   "execution_count": null,
   "metadata": {},
   "outputs": [],
   "source": []
  },
  {
   "cell_type": "code",
   "execution_count": null,
   "metadata": {},
   "outputs": [],
   "source": []
  }
 ],
 "metadata": {
  "kernelspec": {
   "display_name": "Python 3",
   "language": "python",
   "name": "python3"
  },
  "language_info": {
   "codemirror_mode": {
    "name": "ipython",
    "version": 3
   },
   "file_extension": ".py",
   "mimetype": "text/x-python",
   "name": "python",
   "nbconvert_exporter": "python",
   "pygments_lexer": "ipython3",
   "version": "3.7.3"
  }
 },
 "nbformat": 4,
 "nbformat_minor": 2
}
