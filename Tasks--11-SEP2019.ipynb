{
 "cells": [
  {
   "cell_type": "markdown",
   "metadata": {},
   "source": [
    "* average income of Alasks in all years\n",
    "* average income of all states in 2012\n",
    "* Create a function to print all columns in a single line\n",
    "* Create a function to access a row based on a unique column value \n",
    "* Create a function to average income of all states from 2005 to 2013\n",
    "* Create a function to the larest average income in the last three years\n",
    "* Create a function to find the lowest average income form 2007 to 2010(inclusive)\n",
    "* Print the list of all states in the same line with average income less than calfornia\n",
    "* Print the names of states based on descending order of their averages in the year 2009\n",
    "* state the lowest recorded income from 2005 to 2013"
   ]
  },
  {
   "cell_type": "code",
   "execution_count": 1,
   "metadata": {},
   "outputs": [
    {
     "data": {
      "text/html": [
       "<div>\n",
       "<style scoped>\n",
       "    .dataframe tbody tr th:only-of-type {\n",
       "        vertical-align: middle;\n",
       "    }\n",
       "\n",
       "    .dataframe tbody tr th {\n",
       "        vertical-align: top;\n",
       "    }\n",
       "\n",
       "    .dataframe thead th {\n",
       "        text-align: right;\n",
       "    }\n",
       "</style>\n",
       "<table border=\"1\" class=\"dataframe\">\n",
       "  <thead>\n",
       "    <tr style=\"text-align: right;\">\n",
       "      <th></th>\n",
       "      <th>GEOID</th>\n",
       "      <th>State</th>\n",
       "      <th>2005</th>\n",
       "      <th>2006</th>\n",
       "      <th>2007</th>\n",
       "      <th>2008</th>\n",
       "      <th>2009</th>\n",
       "      <th>2010</th>\n",
       "      <th>2011</th>\n",
       "      <th>2012</th>\n",
       "      <th>2013</th>\n",
       "    </tr>\n",
       "  </thead>\n",
       "  <tbody>\n",
       "    <tr>\n",
       "      <th>0</th>\n",
       "      <td>04000US01</td>\n",
       "      <td>Alabama</td>\n",
       "      <td>37150</td>\n",
       "      <td>37952</td>\n",
       "      <td>42212</td>\n",
       "      <td>44476</td>\n",
       "      <td>39980</td>\n",
       "      <td>40933</td>\n",
       "      <td>42590</td>\n",
       "      <td>43464</td>\n",
       "      <td>41381</td>\n",
       "    </tr>\n",
       "    <tr>\n",
       "      <th>1</th>\n",
       "      <td>04000US02</td>\n",
       "      <td>Alaska</td>\n",
       "      <td>55891</td>\n",
       "      <td>56418</td>\n",
       "      <td>62993</td>\n",
       "      <td>63989</td>\n",
       "      <td>61604</td>\n",
       "      <td>57848</td>\n",
       "      <td>57431</td>\n",
       "      <td>63648</td>\n",
       "      <td>61137</td>\n",
       "    </tr>\n",
       "    <tr>\n",
       "      <th>2</th>\n",
       "      <td>04000US04</td>\n",
       "      <td>Arizona</td>\n",
       "      <td>45245</td>\n",
       "      <td>46657</td>\n",
       "      <td>47215</td>\n",
       "      <td>46914</td>\n",
       "      <td>45739</td>\n",
       "      <td>46896</td>\n",
       "      <td>48621</td>\n",
       "      <td>47044</td>\n",
       "      <td>50602</td>\n",
       "    </tr>\n",
       "    <tr>\n",
       "      <th>3</th>\n",
       "      <td>04000US05</td>\n",
       "      <td>Arkansas</td>\n",
       "      <td>36658</td>\n",
       "      <td>37057</td>\n",
       "      <td>40795</td>\n",
       "      <td>39586</td>\n",
       "      <td>36538</td>\n",
       "      <td>38587</td>\n",
       "      <td>41302</td>\n",
       "      <td>39018</td>\n",
       "      <td>39919</td>\n",
       "    </tr>\n",
       "    <tr>\n",
       "      <th>4</th>\n",
       "      <td>04000US06</td>\n",
       "      <td>California</td>\n",
       "      <td>51755</td>\n",
       "      <td>55319</td>\n",
       "      <td>55734</td>\n",
       "      <td>57014</td>\n",
       "      <td>56134</td>\n",
       "      <td>54283</td>\n",
       "      <td>53367</td>\n",
       "      <td>57020</td>\n",
       "      <td>57528</td>\n",
       "    </tr>\n",
       "  </tbody>\n",
       "</table>\n",
       "</div>"
      ],
      "text/plain": [
       "       GEOID       State   2005   2006   2007   2008   2009   2010   2011  \\\n",
       "0  04000US01     Alabama  37150  37952  42212  44476  39980  40933  42590   \n",
       "1  04000US02      Alaska  55891  56418  62993  63989  61604  57848  57431   \n",
       "2  04000US04     Arizona  45245  46657  47215  46914  45739  46896  48621   \n",
       "3  04000US05    Arkansas  36658  37057  40795  39586  36538  38587  41302   \n",
       "4  04000US06  California  51755  55319  55734  57014  56134  54283  53367   \n",
       "\n",
       "    2012   2013  \n",
       "0  43464  41381  \n",
       "1  63648  61137  \n",
       "2  47044  50602  \n",
       "3  39018  39919  \n",
       "4  57020  57528  "
      ]
     },
     "execution_count": 1,
     "metadata": {},
     "output_type": "execute_result"
    }
   ],
   "source": [
    "import pandas as pd\n",
    "income=pd.read_csv(\"income.csv\")\n",
    "income"
   ]
  },
  {
   "cell_type": "markdown",
   "metadata": {},
   "source": [
    "# 1. average income of alaska in all years"
   ]
  },
  {
   "cell_type": "code",
   "execution_count": 2,
   "metadata": {},
   "outputs": [
    {
     "name": "stdout",
     "output_type": "stream",
     "text": [
      "avg of all years: 60106.555555555555 9\n"
     ]
    }
   ],
   "source": [
    "a=income.values[1]\n",
    "s=0\n",
    "c=0\n",
    "d=0\n",
    "for i in a:\n",
    "    if c==2:\n",
    "        d+=1\n",
    "        s+=i\n",
    "    else:\n",
    "        c+=1\n",
    "print(\"avg of all years:\" , s/d,d)"
   ]
  },
  {
   "cell_type": "markdown",
   "metadata": {},
   "source": [
    "# 2 .average income of all states in 2012"
   ]
  },
  {
   "cell_type": "code",
   "execution_count": 3,
   "metadata": {},
   "outputs": [
    {
     "name": "stdout",
     "output_type": "stream",
     "text": [
      "avg of all states in 2012 is  50038.8 5\n"
     ]
    }
   ],
   "source": [
    "a=[]\n",
    "c=0\n",
    "s=0\n",
    "for i in income.values:\n",
    "    a.append(i[9])\n",
    "for j in a:\n",
    "        s+=j\n",
    "        c+=1\n",
    "print(\"avg of all states in 2012 is \",s/c,c)"
   ]
  },
  {
   "cell_type": "markdown",
   "metadata": {},
   "source": [
    "# 3 .create a function to print all columns in a single line"
   ]
  },
  {
   "cell_type": "code",
   "execution_count": 4,
   "metadata": {},
   "outputs": [],
   "source": [
    "def columns(filename):\n",
    "    a=filename.columns.tolist()\n",
    "    return a"
   ]
  },
  {
   "cell_type": "code",
   "execution_count": 5,
   "metadata": {},
   "outputs": [
    {
     "name": "stdout",
     "output_type": "stream",
     "text": [
      "['GEOID', 'State', '2005', '2006', '2007', '2008', '2009', '2010', '2011', '2012', '2013']\n"
     ]
    }
   ],
   "source": [
    "print(columns(income))"
   ]
  },
  {
   "cell_type": "markdown",
   "metadata": {},
   "source": [
    "# 4 .create a function access a row based on a unique column value"
   ]
  },
  {
   "cell_type": "code",
   "execution_count": 10,
   "metadata": {
    "scrolled": true
   },
   "outputs": [
    {
     "name": "stdout",
     "output_type": "stream",
     "text": [
      "1\n",
      "['04000US02' 'Alaska' 55891 56418 62993 63989 61604 57848 57431 63648\n",
      " 61137]\n"
     ]
    }
   ],
   "source": [
    "def fetchcol(num):\n",
    "    return income.values[num]\n",
    "\n",
    "n=int(input())\n",
    "print(fetchcol(n))"
   ]
  },
  {
   "cell_type": "markdown",
   "metadata": {},
   "source": [
    "# 5 .create a function to find avg income of all states from 2005 to 2013"
   ]
  },
  {
   "cell_type": "code",
   "execution_count": 11,
   "metadata": {},
   "outputs": [
    {
     "name": "stdout",
     "output_type": "stream",
     "text": [
      "len of x :  9\n",
      "Average of  2005  is  45339.8\n",
      "Average of  2006  is  46680.6\n",
      "Average of  2007  is  49789.8\n",
      "Average of  2008  is  50395.8\n",
      "Average of  2009  is  47999.0\n",
      "Average of  2010  is  47709.4\n",
      "Average of  2011  is  48662.2\n",
      "Average of  2012  is  50038.8\n",
      "Average of  2013  is  50113.4\n",
      "Average income of all states from 2005 to 2013 48525.42222222223\n"
     ]
    }
   ],
   "source": [
    "def avginc05to13():\n",
    "    x=income.columns[2:]\n",
    "    print('len of x : ',len(x))\n",
    "    s=0\n",
    "    for i in x:\n",
    "        s+=income[i].mean()\n",
    "        print('Average of ',i,' is ',income[i].mean())\n",
    "    return s/(len(x))\n",
    "\n",
    "print('Average income of all states from 2005 to 2013',avginc05to13())"
   ]
  },
  {
   "cell_type": "markdown",
   "metadata": {},
   "source": [
    "# 6 . Create a function to the larest average income in the last three years"
   ]
  },
  {
   "cell_type": "code",
   "execution_count": 12,
   "metadata": {},
   "outputs": [
    {
     "name": "stdout",
     "output_type": "stream",
     "text": [
      "50113.4\n"
     ]
    }
   ],
   "source": [
    "\n",
    "def largeavgoflast3years():\n",
    "    x=income.columns[-3:]\n",
    "    big=income[x[0]].mean()\n",
    "    for i in x:\n",
    "        t=income[i].mean()\n",
    "        if t>big:\n",
    "            big=t\n",
    "    return big\n",
    "\n",
    "print(largeavgoflast3years())"
   ]
  },
  {
   "cell_type": "markdown",
   "metadata": {},
   "source": [
    "# 7 . Create a function to find the lowest average income form 2007 to 2010(inclusive)"
   ]
  },
  {
   "cell_type": "code",
   "execution_count": 13,
   "metadata": {},
   "outputs": [
    {
     "name": "stdout",
     "output_type": "stream",
     "text": [
      "47709.4\n"
     ]
    }
   ],
   "source": [
    "def lowestavgof07to10():\n",
    "    x=income.columns[4:8]\n",
    "    sm=income[x[0]].mean()\n",
    "    for i in x:\n",
    "        t=income[i].mean()\n",
    "        if t<sm:\n",
    "            sm=t\n",
    "    return sm\n",
    "\n",
    "print(lowestavgof07to10())"
   ]
  },
  {
   "cell_type": "markdown",
   "metadata": {},
   "source": [
    "# 8 . Print the list of all states in the same line with average income less than calfornia\n"
   ]
  },
  {
   "cell_type": "code",
   "execution_count": 14,
   "metadata": {},
   "outputs": [
    {
     "name": "stdout",
     "output_type": "stream",
     "text": [
      "Alabama \t 41126.444444444445\n",
      "Arizona \t 47214.77777777778\n",
      "Arkansas \t 38828.88888888889\n"
     ]
    }
   ],
   "source": [
    "c=income.values[-1][2:].mean()\n",
    "for i in range(len(income)):\n",
    "    if c>income.values[i][2:].mean():\n",
    "        print(income.values[i][1],'\\t',income.values[i][2:].mean())"
   ]
  },
  {
   "cell_type": "markdown",
   "metadata": {},
   "source": [
    "# 9 . Print the names of states based on descending order of their averages¶"
   ]
  },
  {
   "cell_type": "code",
   "execution_count": 15,
   "metadata": {},
   "outputs": [
    {
     "name": "stdout",
     "output_type": "stream",
     "text": [
      "{'Alabama': 41126.444444444445, 'Alaska': 60106.555555555555, 'Arizona': 47214.77777777778, 'Arkansas': 38828.88888888889, 'California': 55350.444444444445}\n",
      "\n",
      "[41126.444444444445, 60106.555555555555, 47214.77777777778, 38828.88888888889, 55350.444444444445]\n"
     ]
    }
   ],
   "source": [
    "d={}\n",
    "for i in range(len(income)):\n",
    "    d[income.values[i][1]]=income.values[i][2:].mean()\n",
    "   # print(income.values[i][1],'\\t',income.values[i][2:].mean(),sep='\\t')\n",
    "print(d)\n",
    "print()\n",
    "print(list(d.values()))"
   ]
  },
  {
   "cell_type": "markdown",
   "metadata": {},
   "source": [
    "# 10 . state the lowest recorded income from 2005 to 2013"
   ]
  },
  {
   "cell_type": "code",
   "execution_count": 16,
   "metadata": {},
   "outputs": [
    {
     "name": "stdout",
     "output_type": "stream",
     "text": [
      "36538\n"
     ]
    }
   ],
   "source": [
    "x=income.columns[2:]\n",
    "sm=income[x[0]].min()\n",
    "for i in x:\n",
    "    t=income[i].min()\n",
    "    if t<sm:\n",
    "        sm=t\n",
    "print(sm)"
   ]
  },
  {
   "cell_type": "code",
   "execution_count": null,
   "metadata": {},
   "outputs": [],
   "source": []
  }
 ],
 "metadata": {
  "kernelspec": {
   "display_name": "Python 3",
   "language": "python",
   "name": "python3"
  },
  "language_info": {
   "codemirror_mode": {
    "name": "ipython",
    "version": 3
   },
   "file_extension": ".py",
   "mimetype": "text/x-python",
   "name": "python",
   "nbconvert_exporter": "python",
   "pygments_lexer": "ipython3",
   "version": "3.7.3"
  }
 },
 "nbformat": 4,
 "nbformat_minor": 2
}
